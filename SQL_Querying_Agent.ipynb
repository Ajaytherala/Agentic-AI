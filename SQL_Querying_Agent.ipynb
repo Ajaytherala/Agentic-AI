{
  "cells": [
    {
      "cell_type": "code",
      "execution_count": null,
      "metadata": {
        "id": "h6s9Z7vT18kY"
      },
      "outputs": [],
      "source": [
        "! pip install -qq  langchain-openai langchain langgraph"
      ]
    },
    {
      "cell_type": "code",
      "execution_count": null,
      "metadata": {
        "id": "oQl1Byjr2Hbn"
      },
      "outputs": [],
      "source": [
        "import sqlite3"
      ]
    },
    {
      "cell_type": "code",
      "execution_count": null,
      "metadata": {
        "id": "g0UuOU4g2Khd"
      },
      "outputs": [],
      "source": [
        "conn = sqlite3.connect(\"store.db\", check_same_thread = False)"
      ]
    },
    {
      "cell_type": "code",
      "execution_count": null,
      "metadata": {
        "id": "_6WLQjof2iot"
      },
      "outputs": [],
      "source": [
        "#create users table\n",
        "conn.execute('''\n",
        "CREATE TABLE IF NOT EXISTS users (\n",
        "    id INTEGER PRIMARY KEY,\n",
        "    name TEXT,\n",
        "    email TEXT,\n",
        "    signup_date DATE\n",
        ")\n",
        "''')\n",
        "\n",
        "# Create orders table\n",
        "conn.execute('''\n",
        "CREATE TABLE IF NOT EXISTS orders (\n",
        "    id INTEGER PRIMARY KEY,\n",
        "    user_id INTEGER,\n",
        "    amount REAL,\n",
        "    status TEXT,\n",
        "    order_date DATE,\n",
        "    FOREIGN KEY(user_id) REFERENCES users(id)\n",
        ")\n",
        "''')\n",
        "\n",
        "# Insert users\n",
        "conn.execute(\"INSERT INTO users VALUES (1, 'Alice', 'alice@example.com', '2024-01-10')\")\n",
        "conn.execute(\"INSERT INTO users VALUES (2, 'Bob', 'bob@example.com', '2024-03-15')\")\n",
        "conn.execute(\"INSERT INTO users VALUES (3, 'Charlie', 'charlie@example.com', '2024-03-22')\")\n",
        "conn.execute(\"INSERT INTO users VALUES (4, 'Diana', 'diana@example.com', '2024-04-05')\")\n",
        "conn.execute(\"INSERT INTO users VALUES (5, 'Eve', 'eve@example.com', '2024-04-25')\")\n",
        "conn.execute(\"INSERT INTO users VALUES (6, 'Frank', 'frank@example.com', '2024-05-15')\")\n",
        "conn.execute(\"INSERT INTO users VALUES (7, 'Grace', 'grace@example.com', '2024-05-18')\")\n",
        "conn.execute(\"INSERT INTO users VALUES (8, 'Henry', 'henry@example.com', '2024-05-20')\")\n",
        "conn.execute(\"INSERT INTO users VALUES (9, 'Ivy', 'ivy@example.com', '2024-06-01')\")\n",
        "conn.execute(\"INSERT INTO users VALUES (10, 'Jack', 'jack@example.com', '2024-06-05')\")\n",
        "conn.execute(\"INSERT INTO users VALUES (11, 'Kiran', 'kiran@example.com', '2024-06-03')\")\n",
        "conn.execute(\"INSERT INTO users VALUES (12, 'Lata', 'lata@example.com', '2024-06-04')\")\n",
        "conn.execute(\"INSERT INTO users VALUES (13, 'Manoj', 'manoj@example.com', '2024-06-06')\")\n",
        "\n",
        "# Insert orders\n",
        "conn.execute(\"INSERT INTO orders VALUES (1, 1, 250.00, 'completed', '2024-03-10')\")\n",
        "conn.execute(\"INSERT INTO orders VALUES (2, 2, 100.00, 'pending', '2024-03-16')\")\n",
        "conn.execute(\"INSERT INTO orders VALUES (3, 3, 320.00, 'completed', '2024-03-24')\")\n",
        "conn.execute(\"INSERT INTO orders VALUES (4, 4, 180.00, 'completed', '2024-05-01')\")\n",
        "conn.execute(\"INSERT INTO orders VALUES (5, 5, 210.00, 'completed', '2024-05-02')\")\n",
        "conn.execute(\"INSERT INTO orders VALUES (6, 1, 180.00, 'completed', '2024-03-18')\")\n",
        "conn.execute(\"INSERT INTO orders VALUES (7, 2, 120.00, 'completed', '2024-03-20')\")\n",
        "conn.execute(\"INSERT INTO orders VALUES (8, 1, 300.00, 'completed', '2024-04-01')\")\n",
        "conn.execute(\"INSERT INTO orders VALUES (9, 3, 80.00, 'cancelled', '2024-04-10')\")\n",
        "conn.execute(\"INSERT INTO orders VALUES (10, 4, 250.00, 'pending', '2024-05-05')\")\n",
        "conn.execute(\"INSERT INTO orders VALUES (11, 6, 400.00, 'completed', '2024-05-20')\")\n",
        "conn.execute(\"INSERT INTO orders VALUES (12, 7, 320.00, 'completed', '2024-05-22')\")\n",
        "conn.execute(\"INSERT INTO orders VALUES (13, 8, 150.00, 'pending', '2024-05-25')\")\n",
        "conn.execute(\"INSERT INTO orders VALUES (14, 9, 220.00, 'completed', '2024-06-02')\")\n",
        "conn.execute(\"INSERT INTO orders VALUES (15, 10, 500.00, 'completed', '2024-06-06')\")\n",
        "\n",
        "\n",
        "conn.commit()"
      ]
    },
    {
      "cell_type": "markdown",
      "metadata": {
        "id": "d0cjWOY-BWx8"
      },
      "source": [
        "# ***User gives Query -> LLM -> Get Schema -> llm (generate response) -> LLM (presents results)***"
      ]
    },
    {
      "cell_type": "code",
      "execution_count": null,
      "metadata": {
        "id": "THFkZTFD23pN"
      },
      "outputs": [],
      "source": [
        "from langchain.agents import tool\n",
        "\n",
        "@tool\n",
        "def get_schema() -> str:\n",
        "  \"\"\"\n",
        "  Returns Tables Schemas from the SQLite Tables\n",
        "  \"\"\"\n",
        "  schema = \"\"\n",
        "  for table in [\"users\", \"orders\"]:\n",
        "    rows = conn.execute(f\"PRAGMA table_info({table})\").fetchall()\n",
        "    cols = \",\".join([f\"{r[1]} {r[2]}\" for r in rows])\n",
        "    schema += f\"{table}({cols})\\n\"\n",
        "  print(f\"Schema : {schema.strip()}\")\n",
        "  return schema.strip()"
      ]
    },
    {
      "cell_type": "code",
      "execution_count": null,
      "metadata": {
        "id": "yiBc6xl0Dq91"
      },
      "outputs": [],
      "source": [
        "@tool\n",
        "def execute_sql(query: str) -> str:\n",
        "  \"\"\"\n",
        "  Executes the SQL query and returns the output.\n",
        "  \"\"\"\n",
        "  try:\n",
        "    res = conn.execute(query).fetchall()\n",
        "    return str(res)\n",
        "  except Exception as e:\n",
        "    print(f\"Exception : {e} occurred while execuring the Query : {query}\")"
      ]
    },
    {
      "cell_type": "code",
      "execution_count": null,
      "metadata": {
        "id": "2_zzE5gjElWI"
      },
      "outputs": [],
      "source": [
        "from langgraph.graph import StateGraph, START, END\n",
        "from langgraph.graph.message import AnyMessage, add_messages\n",
        "from langgraph.prebuilt import ToolNode, create_react_agent, tools_condition\n",
        "from langchain_openai import ChatOpenAI\n",
        "from langchain.schema import AIMessage\n",
        "import os\n",
        "\n",
        "os.environ[\"LANGCHAIN_TRACING_V2\"] = \"true\"\n",
        "os.environ[\"LANGCHAIN_ENDPOINT\"] = \"https://api.smith.langchain.com\"\n",
        "os.environ[\"LANGCHAIN_API_KEY\"] = \"\"\n",
        "os.environ[\"LANGCHAIN_PROJECT\"] = \"\"\n",
        "os.environ[\"OPENAI_API_KEY\"] = \"\""
      ]
    },
    {
      "cell_type": "code",
      "execution_count": null,
      "metadata": {
        "id": "kSSswe5pFbBA"
      },
      "outputs": [],
      "source": [
        "from typing import Annotated, TypedDict\n",
        "llm = ChatOpenAI(model = \"gpt-4o-mini\")\n",
        "\n",
        "tools = [get_schema, execute_sql]\n",
        "llm_with_tools = llm.bind_tools(tools)\n",
        "\n",
        "\n",
        "class AgentState(TypedDict):\n",
        "  messages :Annotated[list[AnyMessage], add_messages]"
      ]
    },
    {
      "cell_type": "code",
      "execution_count": null,
      "metadata": {
        "id": "rolYicWZFnDv"
      },
      "outputs": [],
      "source": [
        "def agent(state: AgentState) -> AgentState:\n",
        "  return {\"messages\": [llm_with_tools.invoke(state[\"messages\"])]}"
      ]
    },
    {
      "cell_type": "code",
      "execution_count": null,
      "metadata": {
        "colab": {
          "base_uri": "https://localhost:8080/",
          "height": 266
        },
        "id": "43Bnje3cGxvY",
        "outputId": "4f1aa2cf-df40-4974-99bf-edf58ceaba9a"
      },
      "outputs": [
        {
          "data": {
            "image/png": "[encoded data removed]",
            "text/plain": [
              "<langgraph.graph.state.CompiledStateGraph object at 0x7d42a57921b0>"
            ]
          },
          "execution_count": 10,
          "metadata": {},
          "output_type": "execute_result"
        }
      ],
      "source": [
        "builder = StateGraph(AgentState)\n",
        "\n",
        "\n",
        "\n",
        "builder.add_node(\"agent\", agent)\n",
        "builder.add_node(\"tools\", ToolNode(tools))\n",
        "\n",
        "builder.set_entry_point(\"agent\")\n",
        "builder.add_conditional_edges(\"agent\", tools_condition)\n",
        "builder.add_edge(\"tools\", \"agent\")\n",
        "\n",
        "app = builder.compile()\n",
        "\n",
        "app"
      ]
    },
    {
      "cell_type": "code",
      "execution_count": null,
      "metadata": {
        "id": "iZDbOvNTaGud"
      },
      "outputs": [],
      "source": [
        "def fetch_response(query : str) -> str:\n",
        "  input = {\"messages\" : [{\"role\":\"user\", \"content\": query}]}\n",
        "  final_message = None\n",
        "  for output in app.stream(input):\n",
        "    for key, value in output.items():\n",
        "      print(f\" Node : {key}\")\n",
        "      print(value[\"messages\"])\n",
        "      final_message = value[\"messages\"]\n",
        "\n",
        "  if final_message:\n",
        "    print(f\"Final Response for query {query}: {final_message[0].content}\")\n"
      ]
    },
    {
      "cell_type": "code",
      "execution_count": null,
      "metadata": {
        "colab": {
          "base_uri": "https://localhost:8080/"
        },
        "id": "Lm_CgPiZZOuB",
        "outputId": "0fea159c-2280-4866-b070-432286130045"
      },
      "outputs": [
        {
          "name": "stdout",
          "output_type": "stream",
          "text": [
            " Node : agent\n",
            "[AIMessage(content='', additional_kwargs={'tool_calls': [{'id': 'call_uElB02ZbP6oAc153HFD79IOq', 'function': {'arguments': '{}', 'name': 'get_schema'}, 'type': 'function'}, {'id': 'call_Wcf3Rh3twgH5aHxHw2QnaYTB', 'function': {'arguments': '{\"query\": \"SELECT * FROM orders WHERE status = \\'completed\\' AND date BETWEEN \\'2024-03-01\\' AND \\'2024-03-31\\';\"}', 'name': 'execute_sql'}, 'type': 'function'}], 'refusal': None}, response_metadata={'token_usage': {'completion_tokens': 70, 'prompt_tokens': 77, 'total_tokens': 147, 'completion_tokens_details': {'accepted_prediction_tokens': 0, 'audio_tokens': 0, 'reasoning_tokens': 0, 'rejected_prediction_tokens': 0}, 'prompt_tokens_details': {'audio_tokens': 0, 'cached_tokens': 0}}, 'model_name': 'gpt-4o-mini-2024-07-18', 'system_fingerprint': 'fp_8bda4d3a2c', 'id': 'chatcmpl-CBtNn4sl7Girch7ehmuh5uLIWaCjh', 'service_tier': 'default', 'finish_reason': 'tool_calls', 'logprobs': None}, id='run--cea5e001-1b85-45cd-bdce-4394ec6f092d-0', tool_calls=[{'name': 'get_schema', 'args': {}, 'id': 'call_uElB02ZbP6oAc153HFD79IOq', 'type': 'tool_call'}, {'name': 'execute_sql', 'args': {'query': \"SELECT * FROM orders WHERE status = 'completed' AND date BETWEEN '2024-03-01' AND '2024-03-31';\"}, 'id': 'call_Wcf3Rh3twgH5aHxHw2QnaYTB', 'type': 'tool_call'}], usage_metadata={'input_tokens': 77, 'output_tokens': 70, 'total_tokens': 147, 'input_token_details': {'audio': 0, 'cache_read': 0}, 'output_token_details': {'audio': 0, 'reasoning': 0}})]\n",
            "Schema : users(id INTEGER,name TEXT,email TEXT,signup_date DATE)\n",
            "orders(id INTEGER,user_id INTEGER,amount REAL,status TEXT,order_date DATE)\n",
            "Exception : no such column: date occurred while execuring the Query : SELECT * FROM orders WHERE status = 'completed' AND date BETWEEN '2024-03-01' AND '2024-03-31';\n",
            " Node : tools\n",
            "[ToolMessage(content='users(id INTEGER,name TEXT,email TEXT,signup_date DATE)\\norders(id INTEGER,user_id INTEGER,amount REAL,status TEXT,order_date DATE)', name='get_schema', id='3885e64d-52b5-455b-954f-596e1fbd2156', tool_call_id='call_uElB02ZbP6oAc153HFD79IOq'), ToolMessage(content='null', name='execute_sql', id='6a1bc552-54c5-46da-a1bf-fb667b2feb38', tool_call_id='call_Wcf3Rh3twgH5aHxHw2QnaYTB')]\n",
            " Node : agent\n",
            "[AIMessage(content='', additional_kwargs={'tool_calls': [{'id': 'call_XoxvEvCaOZfdBQwquVlAvXBv', 'function': {'arguments': '{\"query\":\"SELECT user_id FROM orders WHERE status = \\'completed\\' AND order_date BETWEEN \\'2024-03-01\\' AND \\'2024-03-31\\';\"}', 'name': 'execute_sql'}, 'type': 'function'}], 'refusal': None}, response_metadata={'token_usage': {'completion_tokens': 45, 'prompt_tokens': 189, 'total_tokens': 234, 'completion_tokens_details': {'accepted_prediction_tokens': 0, 'audio_tokens': 0, 'reasoning_tokens': 0, 'rejected_prediction_tokens': 0}, 'prompt_tokens_details': {'audio_tokens': 0, 'cached_tokens': 0}}, 'model_name': 'gpt-4o-mini-2024-07-18', 'system_fingerprint': 'fp_8bda4d3a2c', 'id': 'chatcmpl-CBtNp1bCBPu3duYXEB8EYgV4U4rGE', 'service_tier': 'default', 'finish_reason': 'tool_calls', 'logprobs': None}, id='run--0142fdea-5aa7-47d1-8f12-895d577501b3-0', tool_calls=[{'name': 'execute_sql', 'args': {'query': \"SELECT user_id FROM orders WHERE status = 'completed' AND order_date BETWEEN '2024-03-01' AND '2024-03-31';\"}, 'id': 'call_XoxvEvCaOZfdBQwquVlAvXBv', 'type': 'tool_call'}], usage_metadata={'input_tokens': 189, 'output_tokens': 45, 'total_tokens': 234, 'input_token_details': {'audio': 0, 'cache_read': 0}, 'output_token_details': {'audio': 0, 'reasoning': 0}})]\n",
            " Node : tools\n",
            "[ToolMessage(content='[(1,), (3,), (1,), (2,)]', name='execute_sql', id='a5e01ddd-8318-47f3-a458-a393cca8869c', tool_call_id='call_XoxvEvCaOZfdBQwquVlAvXBv')]\n",
            " Node : agent\n",
            "[AIMessage(content='', additional_kwargs={'tool_calls': [{'id': 'call_SXcPbZA5jHZ47S2aanCHPKYc', 'function': {'arguments': '{\"query\":\"SELECT * FROM users WHERE id IN (1, 2, 3);\"}', 'name': 'execute_sql'}, 'type': 'function'}], 'refusal': None}, response_metadata={'token_usage': {'completion_tokens': 29, 'prompt_tokens': 255, 'total_tokens': 284, 'completion_tokens_details': {'accepted_prediction_tokens': 0, 'audio_tokens': 0, 'reasoning_tokens': 0, 'rejected_prediction_tokens': 0}, 'prompt_tokens_details': {'audio_tokens': 0, 'cached_tokens': 0}}, 'model_name': 'gpt-4o-mini-2024-07-18', 'system_fingerprint': 'fp_8bda4d3a2c', 'id': 'chatcmpl-CBtNq1QO8TucY79TbPYfu0f4XER4N', 'service_tier': 'default', 'finish_reason': 'tool_calls', 'logprobs': None}, id='run--528b37b9-411e-42b7-9ea8-58881d9a64d2-0', tool_calls=[{'name': 'execute_sql', 'args': {'query': 'SELECT * FROM users WHERE id IN (1, 2, 3);'}, 'id': 'call_SXcPbZA5jHZ47S2aanCHPKYc', 'type': 'tool_call'}], usage_metadata={'input_tokens': 255, 'output_tokens': 29, 'total_tokens': 284, 'input_token_details': {'audio': 0, 'cache_read': 0}, 'output_token_details': {'audio': 0, 'reasoning': 0}})]\n",
            " Node : tools\n",
            "[ToolMessage(content=\"[(1, 'Alice', 'alice@example.com', '2024-01-10'), (2, 'Bob', 'bob@example.com', '2024-03-15'), (3, 'Charlie', 'charlie@example.com', '2024-03-22')]\", name='execute_sql', id='5329a61a-f0d2-4b5e-8a5c-165d3629fa70', tool_call_id='call_SXcPbZA5jHZ47S2aanCHPKYc')]\n",
            " Node : agent\n",
            "[AIMessage(content='The users who have completed orders in March 2024 are:\\n\\n1. **Alice**\\n   - Email: alice@example.com\\n   - Signup Date: 2024-01-10\\n\\n2. **Bob**\\n   - Email: bob@example.com\\n   - Signup Date: 2024-03-15\\n\\n3. **Charlie**\\n   - Email: charlie@example.com\\n   - Signup Date: 2024-03-22', additional_kwargs={'refusal': None}, response_metadata={'token_usage': {'completion_tokens': 92, 'prompt_tokens': 350, 'total_tokens': 442, 'completion_tokens_details': {'accepted_prediction_tokens': 0, 'audio_tokens': 0, 'reasoning_tokens': 0, 'rejected_prediction_tokens': 0}, 'prompt_tokens_details': {'audio_tokens': 0, 'cached_tokens': 0}}, 'model_name': 'gpt-4o-mini-2024-07-18', 'system_fingerprint': 'fp_8bda4d3a2c', 'id': 'chatcmpl-CBtNrlF4ewGoTeu4FWkGQOs3YvRBL', 'service_tier': 'default', 'finish_reason': 'stop', 'logprobs': None}, id='run--4e36bbae-b832-4868-8bd4-84963620174e-0', usage_metadata={'input_tokens': 350, 'output_tokens': 92, 'total_tokens': 442, 'input_token_details': {'audio': 0, 'cache_read': 0}, 'output_token_details': {'audio': 0, 'reasoning': 0}})]\n",
            "Final Response for query List the users who have completed the orders in 2024 March?: The users who have completed orders in March 2024 are:\n",
            "\n",
            "1. **Alice**\n",
            "   - Email: alice@example.com\n",
            "   - Signup Date: 2024-01-10\n",
            "\n",
            "2. **Bob**\n",
            "   - Email: bob@example.com\n",
            "   - Signup Date: 2024-03-15\n",
            "\n",
            "3. **Charlie**\n",
            "   - Email: charlie@example.com\n",
            "   - Signup Date: 2024-03-22\n"
          ]
        }
      ],
      "source": [
        "query = \"List the users who have completed the orders in 2024 March?\"\n",
        "fetch_response(query)"
      ]
    },
    {
      "cell_type": "code",
      "execution_count": null,
      "metadata": {
        "colab": {
          "base_uri": "https://localhost:8080/"
        },
        "id": "gWOEM13gHQlP",
        "outputId": "f82745ae-d354-45d0-c77c-2a251246c25a"
      },
      "outputs": [
        {
          "name": "stdout",
          "output_type": "stream",
          "text": [
            " Node : agent\n",
            "[AIMessage(content='', additional_kwargs={'tool_calls': [{'id': 'call_RiZt816yILvMWdK2rbJEcO3k', 'function': {'arguments': '{}', 'name': 'get_schema'}, 'type': 'function'}, {'id': 'call_D9QcfU9HqhWtZJCwitNuVOsN', 'function': {'arguments': '{\"query\": \"SELECT u.id, u.name, COALESCE(SUM(o.amount), 0) as total_amount \\\\nFROM users u \\\\nLEFT JOIN orders o ON u.id = o.user_id \\\\nGROUP BY u.id, u.name \\\\nORDER BY total_amount DESC;\"}', 'name': 'execute_sql'}, 'type': 'function'}, {'id': 'call_xXgfotkZaWaIIxhNB3RaFuhj', 'function': {'arguments': '{\"query\": \"SELECT * FROM users;\"}', 'name': 'execute_sql'}, 'type': 'function'}, {'id': 'call_aCStYAgk4FkC4XdWmdqOh27L', 'function': {'arguments': '{\"query\": \"SELECT * FROM orders;\"}', 'name': 'execute_sql'}, 'type': 'function'}], 'refusal': None}, response_metadata={'token_usage': {'completion_tokens': 132, 'prompt_tokens': 94, 'total_tokens': 226, 'completion_tokens_details': {'accepted_prediction_tokens': 0, 'audio_tokens': 0, 'reasoning_tokens': 0, 'rejected_prediction_tokens': 0}, 'prompt_tokens_details': {'audio_tokens': 0, 'cached_tokens': 0}}, 'model_name': 'gpt-4o-mini-2024-07-18', 'system_fingerprint': 'fp_8bda4d3a2c', 'id': 'chatcmpl-CBtQWAXNGJlBeCJJUzFeqKLTmbxgD', 'service_tier': 'default', 'finish_reason': 'tool_calls', 'logprobs': None}, id='run--c8207e57-7f96-406e-bfe6-ca16dff4b275-0', tool_calls=[{'name': 'get_schema', 'args': {}, 'id': 'call_RiZt816yILvMWdK2rbJEcO3k', 'type': 'tool_call'}, {'name': 'execute_sql', 'args': {'query': 'SELECT u.id, u.name, COALESCE(SUM(o.amount), 0) as total_amount \\nFROM users u \\nLEFT JOIN orders o ON u.id = o.user_id \\nGROUP BY u.id, u.name \\nORDER BY total_amount DESC;'}, 'id': 'call_D9QcfU9HqhWtZJCwitNuVOsN', 'type': 'tool_call'}, {'name': 'execute_sql', 'args': {'query': 'SELECT * FROM users;'}, 'id': 'call_xXgfotkZaWaIIxhNB3RaFuhj', 'type': 'tool_call'}, {'name': 'execute_sql', 'args': {'query': 'SELECT * FROM orders;'}, 'id': 'call_aCStYAgk4FkC4XdWmdqOh27L', 'type': 'tool_call'}], usage_metadata={'input_tokens': 94, 'output_tokens': 132, 'total_tokens': 226, 'input_token_details': {'audio': 0, 'cache_read': 0}, 'output_token_details': {'audio': 0, 'reasoning': 0}})]\n",
            "Schema : users(id INTEGER,name TEXT,email TEXT,signup_date DATE)\n",
            "orders(id INTEGER,user_id INTEGER,amount REAL,status TEXT,order_date DATE)\n",
            " Node : tools\n",
            "[ToolMessage(content='users(id INTEGER,name TEXT,email TEXT,signup_date DATE)\\norders(id INTEGER,user_id INTEGER,amount REAL,status TEXT,order_date DATE)', name='get_schema', id='69dddd87-754d-4fda-8108-9bda5019310b', tool_call_id='call_RiZt816yILvMWdK2rbJEcO3k'), ToolMessage(content=\"[(1, 'Alice', 730.0), (10, 'Jack', 500.0), (4, 'Diana', 430.0), (3, 'Charlie', 400.0), (6, 'Frank', 400.0), (7, 'Grace', 320.0), (2, 'Bob', 220.0), (9, 'Ivy', 220.0), (5, 'Eve', 210.0), (8, 'Henry', 150.0), (11, 'Kiran', 0), (12, 'Lata', 0), (13, 'Manoj', 0)]\", name='execute_sql', id='a4830cfd-90bc-4775-b91e-9e16c231f0bb', tool_call_id='call_D9QcfU9HqhWtZJCwitNuVOsN'), ToolMessage(content=\"[(1, 'Alice', 'alice@example.com', '2024-01-10'), (2, 'Bob', 'bob@example.com', '2024-03-15'), (3, 'Charlie', 'charlie@example.com', '2024-03-22'), (4, 'Diana', 'diana@example.com', '2024-04-05'), (5, 'Eve', 'eve@example.com', '2024-04-25'), (6, 'Frank', 'frank@example.com', '2024-05-15'), (7, 'Grace', 'grace@example.com', '2024-05-18'), (8, 'Henry', 'henry@example.com', '2024-05-20'), (9, 'Ivy', 'ivy@example.com', '2024-06-01'), (10, 'Jack', 'jack@example.com', '2024-06-05'), (11, 'Kiran', 'kiran@example.com', '2024-06-03'), (12, 'Lata', 'lata@example.com', '2024-06-04'), (13, 'Manoj', 'manoj@example.com', '2024-06-06')]\", name='execute_sql', id='887e6923-cf8f-4a78-b7b5-cf061f8d5c14', tool_call_id='call_xXgfotkZaWaIIxhNB3RaFuhj'), ToolMessage(content=\"[(1, 1, 250.0, 'completed', '2024-03-10'), (2, 2, 100.0, 'pending', '2024-03-16'), (3, 3, 320.0, 'completed', '2024-03-24'), (4, 4, 180.0, 'completed', '2024-05-01'), (5, 5, 210.0, 'completed', '2024-05-02'), (6, 1, 180.0, 'completed', '2024-03-18'), (7, 2, 120.0, 'completed', '2024-03-20'), (8, 1, 300.0, 'completed', '2024-04-01'), (9, 3, 80.0, 'cancelled', '2024-04-10'), (10, 4, 250.0, 'pending', '2024-05-05'), (11, 6, 400.0, 'completed', '2024-05-20'), (12, 7, 320.0, 'completed', '2024-05-22'), (13, 8, 150.0, 'pending', '2024-05-25'), (14, 9, 220.0, 'completed', '2024-06-02'), (15, 10, 500.0, 'completed', '2024-06-06')]\", name='execute_sql', id='edf98960-5306-49a4-85f7-d7014dc831d8', tool_call_id='call_aCStYAgk4FkC4XdWmdqOh27L')]\n",
            " Node : agent\n",
            "[AIMessage(content='The total purchases made by each user, along with users who have no orders, are as follows, ordered by the total amount in decreasing order:\\n\\n1. **Alice** - $730.00\\n2. **Jack** - $500.00\\n3. **Diana** - $430.00\\n4. **Charlie** - $400.00\\n5. **Frank** - $400.00\\n6. **Grace** - $320.00\\n7. **Bob** - $220.00\\n8. **Ivy** - $220.00\\n9. **Eve** - $210.00\\n10. **Henry** - $150.00\\n11. **Kiran** - $0.00 (No orders)\\n12. **Lata** - $0.00 (No orders)\\n13. **Manoj** - $0.00 (No orders)\\n\\nThis list shows all the users along with the sum of their purchases. Users without any orders have a total amount of zero.', additional_kwargs={'refusal': None}, response_metadata={'token_usage': {'completion_tokens': 213, 'prompt_tokens': 1007, 'total_tokens': 1220, 'completion_tokens_details': {'accepted_prediction_tokens': 0, 'audio_tokens': 0, 'reasoning_tokens': 0, 'rejected_prediction_tokens': 0}, 'prompt_tokens_details': {'audio_tokens': 0, 'cached_tokens': 0}}, 'model_name': 'gpt-4o-mini-2024-07-18', 'system_fingerprint': 'fp_8bda4d3a2c', 'id': 'chatcmpl-CBtQZYfasJldGiIqCZPr32NtH48vU', 'service_tier': 'default', 'finish_reason': 'stop', 'logprobs': None}, id='run--ac7dd3db-d109-4e63-98c6-b9efa7cee4fe-0', usage_metadata={'input_tokens': 1007, 'output_tokens': 213, 'total_tokens': 1220, 'input_token_details': {'audio': 0, 'cache_read': 0}, 'output_token_details': {'audio': 0, 'reasoning': 0}})]\n",
            "Final Response for query List all the users along with the sum of their purchases in decreasing order of total amount. If the user has no orders then their total amount is zero.: The total purchases made by each user, along with users who have no orders, are as follows, ordered by the total amount in decreasing order:\n",
            "\n",
            "1. **Alice** - $730.00\n",
            "2. **Jack** - $500.00\n",
            "3. **Diana** - $430.00\n",
            "4. **Charlie** - $400.00\n",
            "5. **Frank** - $400.00\n",
            "6. **Grace** - $320.00\n",
            "7. **Bob** - $220.00\n",
            "8. **Ivy** - $220.00\n",
            "9. **Eve** - $210.00\n",
            "10. **Henry** - $150.00\n",
            "11. **Kiran** - $0.00 (No orders)\n",
            "12. **Lata** - $0.00 (No orders)\n",
            "13. **Manoj** - $0.00 (No orders)\n",
            "\n",
            "This list shows all the users along with the sum of their purchases. Users without any orders have a total amount of zero.\n"
          ]
        }
      ],
      "source": [
        "query = \"List all the users along with the sum of their purchases in decreasing order of total amount. If the user has no orders then their total amount is zero.\"\n",
        "fetch_response(query)"
      ]
    },
    {
      "cell_type": "code",
      "execution_count": null,
      "metadata": {
        "id": "Z7YaC6EFZmCS"
      },
      "outputs": [],
      "source": []
    }
  ],
  "metadata": {
    "colab": {
      "provenance": []
    },
    "kernelspec": {
      "display_name": "Python 3",
      "name": "python3"
    },
    "language_info": {
      "name": "python"
    }
  },
  "nbformat": 4,
  "nbformat_minor": 0
}
